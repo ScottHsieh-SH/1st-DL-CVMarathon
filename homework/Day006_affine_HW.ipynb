{
 "cells": [
  {
   "cell_type": "code",
   "execution_count": 1,
   "metadata": {},
   "outputs": [
    {
     "name": "stdout",
     "output_type": "stream",
     "text": [
      "512 512\n"
     ]
    }
   ],
   "source": [
    "# 轉照片\n",
    "import cv2\n",
    "import time\n",
    "import numpy as np\n",
    "import math\n",
    "img_path = 'D:\\opcv\\lena.png'\n",
    "\n",
    "# 以彩色圖片的方式載入\n",
    "img = cv2.imread(img_path, cv2.IMREAD_COLOR)\n",
    "\n",
    "# 設定 translation transformation matrix\n",
    "# x 平移 100 pixel; y 平移 50 pixel\n",
    "a=math.sin(45*math.pi/180)\n",
    "b=math.cos(45*math.pi/180)\n",
    "M = np.array([[b, -a, 0],\n",
    "              [a, b, 0]], dtype=np.float32)\n",
    "#img = cv2.resize(img, None, fx=0.5, fy=0.5)\n",
    "shift_img = cv2.warpAffine(img, M, (512, 512))\n",
    "\n",
    "print(img.shape[1],img.shape[0])\n",
    "\n",
    "# 組合 + 顯示圖片\n",
    "\n",
    "while True:\n",
    "    cv2.imshow('shift_img', shift_img)\n",
    "    k = cv2.waitKey(0)\n",
    "    if k == 27:\n",
    "        cv2.destroyAllWindows()\n",
    "        break"
   ]
  },
  {
   "cell_type": "code",
   "execution_count": 21,
   "metadata": {},
   "outputs": [
    {
     "name": "stdout",
     "output_type": "stream",
     "text": [
      "0.7071067811865476\n"
     ]
    }
   ],
   "source": [
    "import cv2\n",
    "import time\n",
    "import numpy as np\n",
    "import math\n",
    "print(math.sin(45*math.pi/180))\n"
   ]
  },
  {
   "cell_type": "code",
   "execution_count": 2,
   "metadata": {},
   "outputs": [
    {
     "name": "stdout",
     "output_type": "stream",
     "text": [
      "[[  0.35355339   0.35355339  74.98066402]\n",
      " [ -0.35355339   0.35355339 256.        ]]\n"
     ]
    }
   ],
   "source": [
    "import cv2\n",
    "import time\n",
    "import numpy as np\n",
    "import math\n",
    "\n",
    "img_path = 'D:\\opcv\\lena.png'\n",
    "# 以彩色圖片的方式載入\n",
    "img = cv2.imread(img_path, cv2.IMREAD_COLOR)\n",
    "rows,cols=img.shape[:2]\n",
    "\n",
    "#这里的第一个参数为旋转中心，第二个为旋转角度，第三个为旋转后的缩放因子\n",
    "#可以通过设置旋转中心，缩放因子以及窗口大小来防止旋转后超出边界的问题。\n",
    "M=cv2.getRotationMatrix2D((cols/2,rows/2),45,0.5)\n",
    "print(M)\n",
    "#第三个参数是输出图像的尺寸中心\n",
    "dst=cv2.warpAffine(img,M,(cols,rows))\n",
    "while(1):\n",
    "    cv2.imshow('img',dst)\n",
    "    cv2.imshow('imgimg',img)\n",
    "    if cv2.waitKey(1)==27:\n",
    "        break\n",
    "cv2.destroyAllWindows()"
   ]
  },
  {
   "cell_type": "code",
   "execution_count": 5,
   "metadata": {
    "scrolled": false
   },
   "outputs": [
    {
     "name": "stdout",
     "output_type": "stream",
     "text": [
      "[[ 0.93636364  0.31818182 17.27272727]\n",
      " [ 0.11818182  0.80909091 33.63636364]]\n"
     ]
    }
   ],
   "source": [
    "import cv2\n",
    "import time\n",
    "import numpy as np\n",
    "import math\n",
    "\n",
    "img_path = 'D:\\opcv\\lena.png'\n",
    "# 以彩色圖片的方式載入\n",
    "img = cv2.imread(img_path, cv2.IMREAD_COLOR)\n",
    "\n",
    "\n",
    "rows, cols = img.shape[:2]\n",
    "pt1 = np.array([[50,50], [300,100], [200,300]], dtype=np.float32)\n",
    "pt2 = np.array([[80,80], [330,150], [300,300]], dtype=np.float32)\n",
    "\n",
    "# 取得 affine 矩陣並做 affine 操作\n",
    "M_affine = cv2.getAffineTransform(pt1,pt2)\n",
    "img_affine = cv2.warpAffine(img,M_affine,(2*cols,2*rows))\n",
    "print(M_affine)\n",
    "\n",
    "# 在圖片上標記點\n",
    "img_copy = img.copy()\n",
    "#座標點分別提取出來\n",
    "for idx, pts in enumerate(pt1):\n",
    "    #座標點提取改成整數\n",
    "    pts = tuple(map(int, pts))\n",
    "    #在座標上畫圈\n",
    "    cv2.circle(img_copy, pts, 3, (0, 255, 0), -1)\n",
    "    #在座標上標數字\n",
    "    cv2.putText(img_copy, str(idx), (pts[0]+5, pts[1]+5), cv2.FONT_HERSHEY_COMPLEX, 1, (0, 255, 0), 1)\n",
    "\n",
    "for idx, pts in enumerate(pt2):\n",
    "    pts = tuple(map(int, pts))\n",
    "    cv2.circle(img_affine, pts, 3, (0, 255, 0), -1)\n",
    "    cv2.putText(img_affine, str(idx), (pts[0]+5, pts[1]+5), cv2.FONT_HERSHEY_COMPLEX, 1, (0, 255, 0), 1)\n",
    "\n",
    "\n",
    "while True:\n",
    "    cv2.imshow('affine transformation', img_copy )\n",
    "    cv2.imshow('img_affine', img_affine )\n",
    "    if cv2.waitKey(1)==27:\n",
    "        break\n",
    "cv2.destroyAllWindows()\n"
   ]
  },
  {
   "cell_type": "code",
   "execution_count": null,
   "metadata": {},
   "outputs": [],
   "source": []
  }
 ],
 "metadata": {
  "kernelspec": {
   "display_name": "Python 3",
   "language": "python",
   "name": "python3"
  },
  "language_info": {
   "codemirror_mode": {
    "name": "ipython",
    "version": 3
   },
   "file_extension": ".py",
   "mimetype": "text/x-python",
   "name": "python",
   "nbconvert_exporter": "python",
   "pygments_lexer": "ipython3",
   "version": "3.7.3"
  }
 },
 "nbformat": 4,
 "nbformat_minor": 2
}
