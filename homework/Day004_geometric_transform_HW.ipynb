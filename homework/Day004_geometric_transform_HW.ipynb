{
 "cells": [
  {
   "cell_type": "code",
   "execution_count": 7,
   "metadata": {},
   "outputs": [],
   "source": [
    "# 翻轉照片\n",
    "import cv2\n",
    "import time\n",
    "import numpy as np\n",
    "img_path = 'D:\\opcv\\lena.png'\n",
    "\n",
    "# 以彩色圖片的方式載入\n",
    "img = cv2.imread(img_path, cv2.IMREAD_COLOR)\n",
    "\n",
    "# 垂直翻轉 (vertical)\n",
    "img_vflip = img[::-1, :, :]\n",
    "\n",
    "# 翻轉 (vertical)\n",
    "img_hflip = img[:, ::-1, :]\n",
    "\n",
    "# 翻轉 (vertical)\n",
    "img_vfflip = img[::-1, ::-1, :]\n",
    "\n",
    "# 翻轉 (vertical)\n",
    "img_fffflip = img[::-1, ::-1, ::-1]\n",
    "\n",
    "while True:\n",
    "    # 比較不同程度的對比 / 明亮\n",
    "    cv2.imshow('vflip', img_vflip  )\n",
    "    cv2.imshow('hflip', img_hflip  )\n",
    "    cv2.imshow('vhflip', img_vfflip   )\n",
    "    cv2.imshow('fffflip', img_fffflip   )\n",
    "    k = cv2.waitKey(0)\n",
    "    if k == 27:\n",
    "        cv2.destroyAllWindows()\n",
    "        break"
   ]
  },
  {
   "cell_type": "code",
   "execution_count": 25,
   "metadata": {},
   "outputs": [
    {
     "name": "stdout",
     "output_type": "stream",
     "text": [
      " zoom cost 0.0\n",
      " zoom cost 0.0009982585906982422\n",
      " zoom cost 0.0\n",
      "(510, 510, 3)\n",
      "(510, 510, 3)\n",
      "(510, 510)\n"
     ]
    }
   ],
   "source": [
    "# 放大縮小照片\n",
    "import cv2\n",
    "import time\n",
    "import numpy as np\n",
    "img_path = 'D:\\opcv\\lena.png'\n",
    "# 以彩色圖片的方式載入\n",
    "img = cv2.imread(img_path, cv2.IMREAD_COLOR)\n",
    "# 將圖片縮小成原本的 20%\n",
    "img_small = cv2.resize(img, None, fx=0.2, fy=0.2)\n",
    "# 將圖片放大為\"小圖片\"的 8 倍大 = 原圖的 1.6 倍大\n",
    "fx, fy = 5, 5\n",
    "# 鄰近差值 scale + 計算花費時間\n",
    "start_time = time.time()\n",
    "img_INTER_NEAREST = cv2.resize(img_test, None, fx=fx, fy=fy, interpolation=cv2.INTER_NEAREST)\n",
    "print(' zoom cost {}'.format(time.time() - start_time))\n",
    "start_time = time.time()\n",
    "img_INTER_LINEAR = cv2.resize(img_test, None, fx=fx, fy=fy, interpolation=cv2.INTER_LINEAR)\n",
    "print(' zoom cost {}'.format(time.time() - start_time))\n",
    "start_time = time.time()\n",
    "img_INTER_CUBIC = cv2.resize(img_test, None, fx=fx, fy=fy, interpolation=cv2.INTER_CUBIC)\n",
    "print(' zoom cost {}'.format(time.time() - start_time))\n",
    "img_INTER_LANCZOS4 = cv2.resize(img_test, None, fx=fx, fy=fy, interpolation=cv2.INTER_LANCZOS4)\n",
    "\n",
    "#用改變shape來轉換\n",
    "orig_img = cv2.resize(img, img_area_scale.shape[:2])\n",
    "print(img_area_scale.shape)\n",
    "print(orig_img.shape)\n",
    "print(img_area_scale.shape[:2])\n",
    "\n",
    "while True:\n",
    "    cv2.imshow('img ', img )\n",
    "    cv2.imshow('orig_img ', orig_img )\n",
    "    cv2.imshow('img_small', img_small)\n",
    "    cv2.imshow('img_area_scale ', img_area_scale )\n",
    "    cv2.imshow('img_INTER_NEAREST ', img_INTER_NEAREST )\n",
    "    cv2.imshow('img_INTER_LINEAR ', img_INTER_LINEAR )\n",
    "    cv2.imshow('img_INTER_CUBIC ', img_INTER_CUBIC )\n",
    "    cv2.imshow('img_INTER_LANCZOS4 ', img_INTER_LANCZOS4 )\n",
    "    \n",
    "    k = cv2.waitKey(0)\n",
    "    if k == 27:\n",
    "        cv2.destroyAllWindows()\n",
    "        break"
   ]
  },
  {
   "cell_type": "code",
   "execution_count": 11,
   "metadata": {},
   "outputs": [
    {
     "name": "stdout",
     "output_type": "stream",
     "text": [
      "512 512\n"
     ]
    }
   ],
   "source": [
    "# 移動照片\n",
    "import cv2\n",
    "import time\n",
    "import numpy as np\n",
    "img_path = 'D:\\opcv\\lena.png'\n",
    "\n",
    "# 以彩色圖片的方式載入\n",
    "img = cv2.imread(img_path, cv2.IMREAD_COLOR)\n",
    "\n",
    "# 設定 translation transformation matrix\n",
    "# x 平移 100 pixel; y 平移 50 pixel\n",
    "M = np.array([[1, 0, 100],\n",
    "              [0, 1, 50]], dtype=np.float32)\n",
    "shift_img = cv2.warpAffine(img, M, (img.shape[1], img.shape[0]))\n",
    "\n",
    "print(img.shape[1],img.shape[0])\n",
    "\n",
    "# 組合 + 顯示圖片\n",
    "img_shift = np.hstack((img, shift_img))\n",
    "while True:\n",
    "    cv2.imshow('shift image', img_shift)\n",
    "    k = cv2.waitKey(0)\n",
    "    if k == 27:\n",
    "        cv2.destroyAllWindows()\n",
    "        break"
   ]
  },
  {
   "cell_type": "code",
   "execution_count": 10,
   "metadata": {},
   "outputs": [
    {
     "name": "stdout",
     "output_type": "stream",
     "text": [
      "512 512\n"
     ]
    }
   ],
   "source": [
    "# 轉照片\n",
    "import cv2\n",
    "import time\n",
    "import numpy as np\n",
    "img_path = 'D:\\opcv\\lena.png'\n",
    "\n",
    "# 以彩色圖片的方式載入\n",
    "img = cv2.imread(img_path, cv2.IMREAD_COLOR)\n",
    "\n",
    "# 設定 translation transformation matrix\n",
    "# x 平移 100 pixel; y 平移 50 pixel\n",
    "M = np.array([[1, 0.5, 0],\n",
    "              [0.3, 1, 0]], dtype=np.float32)\n",
    "shift_img = cv2.warpAffine(img, M, (1024, 1024))\n",
    "\n",
    "print(img.shape[1],img.shape[0])\n",
    "\n",
    "# 組合 + 顯示圖片\n",
    "\n",
    "while True:\n",
    "    cv2.imshow('shift_img', shift_img)\n",
    "    k = cv2.waitKey(0)\n",
    "    if k == 27:\n",
    "        cv2.destroyAllWindows()\n",
    "        break"
   ]
  },
  {
   "cell_type": "code",
   "execution_count": null,
   "metadata": {},
   "outputs": [],
   "source": []
  },
  {
   "cell_type": "code",
   "execution_count": null,
   "metadata": {},
   "outputs": [],
   "source": []
  }
 ],
 "metadata": {
  "kernelspec": {
   "display_name": "Python 3",
   "language": "python",
   "name": "python3"
  },
  "language_info": {
   "codemirror_mode": {
    "name": "ipython",
    "version": 3
   },
   "file_extension": ".py",
   "mimetype": "text/x-python",
   "name": "python",
   "nbconvert_exporter": "python",
   "pygments_lexer": "ipython3",
   "version": "3.7.3"
  }
 },
 "nbformat": 4,
 "nbformat_minor": 2
}
