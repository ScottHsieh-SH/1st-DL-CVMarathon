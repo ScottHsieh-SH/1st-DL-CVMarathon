{
 "cells": [
  {
   "cell_type": "code",
   "execution_count": 16,
   "metadata": {},
   "outputs": [],
   "source": [
    "import cv2\n",
    "\n",
    "import time\n",
    "import numpy as np\n",
    "img_path = 'D:\\opcv\\lena.png'\n",
    "\n",
    "# hsv 飽和度直方化\n",
    "img = cv2.imread(img_path, cv2.IMREAD_COLOR)\n",
    "cv2.rectangle(img, (60, 40), (420, 510), (0, 0, 255), 3)\n",
    "img_hsv = cv2.cvtColor(img, cv2.COLOR_BGR2HSV)\n",
    "img_s = cv2.equalizeHist(img_hsv[..., -1])\n",
    "img_hsv[..., -1]=img_s\n",
    "img_1 = cv2.cvtColor(img_hsv, cv2.COLOR_HSV2BGR)\n",
    "img_hflip = img_1[:, ::-1, :]\n",
    "img_small = cv2.resize(img_hflip, None, fx=0.5, fy=0.5)\n",
    "while True:\n",
    "    # 顯示彩圖\n",
    "    cv2.imshow('img', img )\n",
    "    cv2.imshow('img1', img_small)\n",
    "# 直到按下 ESC 鍵才會自動關閉視窗結束程式\n",
    "    k = cv2.waitKey(0)\n",
    "    if k == 27:\n",
    "        cv2.destroyAllWindows()\n",
    "        break\n"
   ]
  },
  {
   "cell_type": "code",
   "execution_count": null,
   "metadata": {},
   "outputs": [],
   "source": []
  },
  {
   "cell_type": "code",
   "execution_count": null,
   "metadata": {},
   "outputs": [],
   "source": []
  }
 ],
 "metadata": {
  "kernelspec": {
   "display_name": "Python 3",
   "language": "python",
   "name": "python3"
  },
  "language_info": {
   "codemirror_mode": {
    "name": "ipython",
    "version": 3
   },
   "file_extension": ".py",
   "mimetype": "text/x-python",
   "name": "python",
   "nbconvert_exporter": "python",
   "pygments_lexer": "ipython3",
   "version": "3.7.3"
  }
 },
 "nbformat": 4,
 "nbformat_minor": 2
}
