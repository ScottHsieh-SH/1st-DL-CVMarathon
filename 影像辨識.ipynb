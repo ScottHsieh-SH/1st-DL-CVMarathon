{
  "nbformat": 4,
  "nbformat_minor": 0,
  "metadata": {
    "colab": {
      "name": "影像辨識.ipynb",
      "provenance": [],
      "collapsed_sections": [
        "6KL4nl2PmiLj",
        "YSvEHQH_mu49",
        "fiatQJ1GqTSO",
        "Nu8rh06uz6vP",
        "sS2mdjCF4wnS",
        "1-AY_Y8J2Dpu",
        "xha-fJSG5VVe",
        "wLROmSU_9Tva"
      ],
      "mount_file_id": "1pBiqLy8TQR3zWLz0J2h0hy-y6p5OhZCN",
      "authorship_tag": "ABX9TyOux7p5/pB8XbElOp6Z7CtR",
      "include_colab_link": true
    },
    "kernelspec": {
      "name": "python3",
      "display_name": "Python 3"
    },
    "accelerator": "GPU"
  },
  "cells": [
    {
      "cell_type": "markdown",
      "metadata": {
        "id": "view-in-github",
        "colab_type": "text"
      },
      "source": [
        "<a href=\"https://colab.research.google.com/github/ScottHsieh-SH/1st-DL-CVMarathon/blob/master/%E5%BD%B1%E5%83%8F%E8%BE%A8%E8%AD%98.ipynb\" target=\"_parent\"><img src=\"https://colab.research.google.com/assets/colab-badge.svg\" alt=\"Open In Colab\"/></a>"
      ]
    },
    {
      "cell_type": "markdown",
      "metadata": {
        "id": "6KL4nl2PmiLj"
      },
      "source": [
        "#google抓圖已失效模組"
      ]
    },
    {
      "cell_type": "code",
      "metadata": {
        "id": "lmW5ueAALRCc",
        "outputId": "37127697-78bb-4dd8-b020-afec7ca09a7e",
        "colab": {
          "base_uri": "https://localhost:8080/",
          "height": 69
        }
      },
      "source": [
        "#此模組已失效\n",
        "\n",
        "!  pip install google_images_download\n",
        "# -*- coding: utf-8 -*-\n",
        "from google_images_download import google_images_download\n",
        "\n",
        "response = google_images_download.googleimagesdownload()\n",
        "\n",
        "arguments = {\"keywords\": \"dog\",\n",
        "              \"limit\": 20,\n",
        "              \"print_urls\": True}\n",
        "\n",
        "paths = response.download(arguments)\n",
        "print(paths)"
      ],
      "execution_count": null,
      "outputs": [
        {
          "output_type": "stream",
          "text": [
            "Requirement already satisfied: google_images_download in /usr/local/lib/python3.6/dist-packages (2.8.0)\n",
            "Requirement already satisfied: selenium in /usr/local/lib/python3.6/dist-packages (from google_images_download) (3.141.0)\n",
            "Requirement already satisfied: urllib3 in /usr/local/lib/python3.6/dist-packages (from selenium->google_images_download) (1.24.3)\n"
          ],
          "name": "stdout"
        }
      ]
    },
    {
      "cell_type": "markdown",
      "metadata": {
        "id": "PMlkoSmHmrDy"
      },
      "source": [
        "#bs4抓圖"
      ]
    },
    {
      "cell_type": "markdown",
      "metadata": {
        "id": "tKdyr4Tr_c9a"
      },
      "source": [
        "如果想要使用 Python 來下載網頁上的資料，最基本的作法就是以 requests 模組建立適當的 HTTP 請求，透過 HTTP 請求從網頁伺服器下載指定的資料，這種方式雖然步驟比較繁瑣，也需要一點通訊協定的基礎，但是絕大部分的網路爬蟲或除錯問題都可以靠這個架構解決，是資深網路程式設計師必備的工具之一。"
      ]
    },
    {
      "cell_type": "markdown",
      "metadata": {
        "id": "p0TxdCtV_tzA"
      },
      "source": [
        "Beautiful Soup 是一個 Python 的函式庫模組，可以讓開發者僅須撰寫非常少量的程式碼，就可以快速解析網頁 HTML 碼，從中翠取出使用者有興趣的資料、去蕪存菁，降低網路爬蟲程式的開發門檻、加快程式撰寫速度。\n",
        "\n",
        "Beautiful Soup 的運作方式就是讀取 HTML 原始碼，自動進行解析並產生一個 BeautifulSoup 物件，此物件中包含了整個 HTML 文件的結構樹，有了這個結構樹之後，就可以輕鬆找出任何有興趣的資料了。"
      ]
    },
    {
      "cell_type": "code",
      "metadata": {
        "id": "aQC-f1Rsc02f"
      },
      "source": [
        "import requests #請求HTTP\n",
        "from bs4 import BeautifulSoup\n",
        "\n",
        "google_url = 'https://www.google.com/search?ei=gAhqXciWMbCSr7wPgLaqiAE&yv=3&tbm=isch&q={}&vet=10ahUKEwjI1v2Bs6zkAhUwyYsBHQCbChEQuT0IWygB.gAhqXciWMbCSr7wPgLaqiAE.i&ved=0ahUKEwjI1v2Bs6zkAhUwyYsBHQCbChEQuT0IWygB&ijn=1&start={}&asearch=ichunk&async=_id:rg_s,_pms:s,_jsfs:Ffpdje,_fmt:pc'\n",
        "res = requests.get(google_url.format('戴口罩的人', 0))\n",
        "soup = BeautifulSoup(res.text, 'lxml' )"
      ],
      "execution_count": null,
      "outputs": []
    },
    {
      "cell_type": "code",
      "metadata": {
        "id": "4iOKq1Sqc042"
      },
      "source": [
        "for alink in soup.select('a img'):\n",
        "    if alink.get('data-src'):\n",
        "        print(alink.get('data-src'))\n",
        "        print('======================')"
      ],
      "execution_count": null,
      "outputs": []
    },
    {
      "cell_type": "markdown",
      "metadata": {
        "id": "YSvEHQH_mu49"
      },
      "source": [
        "#抓人臉"
      ]
    },
    {
      "cell_type": "code",
      "metadata": {
        "id": "dMMRYUG5myTK"
      },
      "source": [
        "def getPicture(path, url):\n",
        "    res = requests.get(url)\n",
        "    with open('{}/{}.jpg'.format(path, url.split('tbn:')[1]) , 'wb') as f:\n",
        "        f.write(res.content)"
      ],
      "execution_count": null,
      "outputs": []
    },
    {
      "cell_type": "code",
      "metadata": {
        "id": "dLhNr02em36v"
      },
      "source": [
        "import requests\n",
        "import os\n",
        "from bs4 import BeautifulSoup\n",
        "google_url = 'https://www.google.com/search?ei=gAhqXciWMbCSr7wPgLaqiAE&yv=3&tbm=isch&q={}&vet=10ahUKEwjI1v2Bs6zkAhUwyYsBHQCbChEQuT0IWygB.gAhqXciWMbCSr7wPgLaqiAE.i&ved=0ahUKEwjI1v2Bs6zkAhUwyYsBHQCbChEQuT0IWygB&ijn=1&start={}&asearch=ichunk&async=_id:rg_s,_pms:s,_jsfs:Ffpdje,_fmt:pc'\n",
        "\n",
        "def getIdolImage(path, term, pagenum): # path路徑/ term要抓的圖的搜尋/ pagenum抓幾頁的資料\n",
        "    if not os.path.exists(path):\n",
        "        os.mkdir(path)       #創造儲存路徑\n",
        "    for p in range(pagenum):\n",
        "        res = requests.get(google_url.format(term, p* 100))\n",
        "        soup = BeautifulSoup(res.text, 'lxml' )\n",
        "        for alink in soup.select('a img'):\n",
        "            if alink.get('data-src'):\n",
        "                getPicture(path, alink.get('data-src'))"
      ],
      "execution_count": null,
      "outputs": []
    },
    {
      "cell_type": "code",
      "metadata": {
        "id": "UBS_CeLInCDl"
      },
      "source": [
        "getIdolImage('facenomask','人臉', 2)"
      ],
      "execution_count": null,
      "outputs": []
    },
    {
      "cell_type": "code",
      "metadata": {
        "id": "JARE9N9KpJAK"
      },
      "source": [
        "getIdolImage('facemask','戴口罩的人', 2)"
      ],
      "execution_count": null,
      "outputs": []
    },
    {
      "cell_type": "markdown",
      "metadata": {
        "id": "fiatQJ1GqTSO"
      },
      "source": [
        "#使用OpenCV 擷取人臉部分"
      ]
    },
    {
      "cell_type": "code",
      "metadata": {
        "id": "by7kV10LqWWv"
      },
      "source": [
        "import cv2 as cv"
      ],
      "execution_count": null,
      "outputs": []
    },
    {
      "cell_type": "code",
      "metadata": {
        "id": "hPJLRB3tqdgv",
        "outputId": "beaa9fb0-ed51-4354-cbfe-3077877959ec",
        "colab": {
          "base_uri": "https://localhost:8080/",
          "height": 200
        }
      },
      "source": [
        "from PIL import Image\n",
        "im = Image.open('//content/facemask/ANd9GcQGw_D2nHKb6KBUkF88mMdRWgdpLGEes_v_9dm5rSZfo5vRYIQ&s.jpg') #複製左邊圖片路徑\n",
        "im"
      ],
      "execution_count": null,
      "outputs": [
        {
          "output_type": "execute_result",
          "data": {
            "image/png": "[encoded data removed]",
            "text/plain": [
              "<PIL.JpegImagePlugin.JpegImageFile image mode=RGB size=275x183 at 0x7F8D74A142E8>"
            ]
          },
          "metadata": {
            "tags": []
          },
          "execution_count": 107
        }
      ]
    },
    {
      "cell_type": "code",
      "metadata": {
        "id": "QMy7ZGzaqxba",
        "outputId": "1b2962c1-b01f-4096-9cb3-393d26d5faba",
        "colab": {
          "base_uri": "https://localhost:8080/",
          "height": 202
        }
      },
      "source": [
        "! wget https://raw.githubusercontent.com/opencv/opencv/master/data/haarcascades/haarcascade_frontalface_default.xml"
      ],
      "execution_count": null,
      "outputs": [
        {
          "output_type": "stream",
          "text": [
            "--2020-10-12 11:56:20--  https://raw.githubusercontent.com/opencv/opencv/master/data/haarcascades/haarcascade_frontalface_default.xml\n",
            "Resolving raw.githubusercontent.com (raw.githubusercontent.com)... 151.101.0.133, 151.101.64.133, 151.101.128.133, ...\n",
            "Connecting to raw.githubusercontent.com (raw.githubusercontent.com)|151.101.0.133|:443... connected.\n",
            "HTTP request sent, awaiting response... 200 OK\n",
            "Length: 930127 (908K) [text/plain]\n",
            "Saving to: ‘haarcascade_frontalface_default.xml’\n",
            "\n",
            "haarcascade_frontal 100%[===================>] 908.33K  --.-KB/s    in 0.1s    \n",
            "\n",
            "2020-10-12 11:56:20 (8.72 MB/s) - ‘haarcascade_frontalface_default.xml’ saved [930127/930127]\n",
            "\n"
          ],
          "name": "stdout"
        }
      ]
    },
    {
      "cell_type": "markdown",
      "metadata": {
        "id": "m5OnnSz1u5Xl"
      },
      "source": [
        "链接：https://www.zhihu.com/question/31353595/answer/60826602\n",
        "\n",
        "簡單概括(可能概括的不是很準確，但是我的語言功底也就到這了，見諒)的話就是，xml本身是一種格式規範，是一種包含了數據以及數據說明的文本格式規範。 接下來煮幾個栗子說明一下。比如，我們要給對方傳輸一段數據，數據內容是“too young,too simple,sometimes naive”，要將這段話按照屬性拆分為三個數據的話，就是，年齡too young，閱歷too simple，結果sometimes naive。我們都知道程序不像人，可以體會字面意思，並自動拆分出數據，因此，我們需要幫助程序做拆分，因此出現了各種各樣的數據格式以及拆分方式。比如，可以是這樣的數據為“too young,too simple,sometimes naive”然後按照逗號拆分，第一部分為年齡，第二部分為閱歷，第三部分為結果。也可以是這樣的數據為“too_young**too_simple*sometimes_naive”從數據開頭開始截取前面十一個字符，去掉*號並把下劃線替換為空格作為第一部分，再截取接下來的十一個字符同樣去掉*並替換下劃線為空格作為第二部分，最後把剩下的字符同樣去*號體會空格作為第三部分。這兩種方式都可以用來容納數據並能夠被解析，但是不直觀，通用性也不好，而且如果出現超過限定字數的字符串就容納不了，也可能出現數據本身就下劃線字符導致需要做轉義。基於這種情況，出現了xml這種數據格式，上面的數據用XML表示的話可以是這樣<person age=\"too young\" experience=\"too simple\" result=\"sometimes naive\" />也可以是這樣<person>\n",
        "    <age value=\"too young\" />\n",
        "    <experience value=\"too simple\" />\n",
        "    <result value=\"sometimes naive\" />\n",
        "</person>兩種方式都是xml，都很直觀，附帶了對數據的說明，並且具備通用的格式規範可以讓程序做解析。如果用json格式來表示的話，就是下面這樣{\n",
        "    \"age\":\"too young\",\n",
        "    \"experience\":\"too simple\",\n",
        "    \"result\":\"sometimes naive\"\n",
        "}看出來沒，其實數據都是一樣的，不同的只是數據的格式而已，同樣的數據，我用xml格式傳給你，你用xml格式解析出三個數據，用json格式傳給你，你就用json格式解析出三個數據，還可以我本地保存的是xml格式的數據，我自己先解析出三個數據，然後構造成json格式傳給你，你解析json格式，獲得三個數據，再自己構造成xml格式保存起來，說白了，不管是xml還是json，都只是包裝數據的不同格式而已，重要的是其中含有的數據，而不是包裝的格式。發佈於2015-08-26​贊同632​​53 條評論​分享​收藏​喜歡收起​繼續瀏覽內容知乎發現更大的世界打開Chrome繼續Tim Chen​編程話題下的優秀回答者166人讚同了該回答估計沒多少人知道XML其實是微軟做的或者說是主要推動者，而且現在管XML的人就坐在離我10米遠，正在苦逼地調bug。簡單回答下題主的問題。XML就是種定義數據的標機語言，並沒有定義如何傳輸，你可以把他放在http get的response裡面，也可以直接拷貝一個xml文件到u盤裡。其擴展xsd定義了xml的schema，而xslt又定義了xml的轉換方式，這些使得xml更加強大。比如我見過用xslt來自動生成測試代碼的。從應用來講，各種config文件是xml的一個重要應用。數據文件也能用xml來保存，比如office文件。另外，SOAP協議的載體也是基於XML；ATOM也是基於XML用來表達要傳輸的數據，雖然現在json用得更多點。"
      ]
    },
    {
      "cell_type": "code",
      "metadata": {
        "id": "JarpHSNzq4Ji",
        "outputId": "5b3534d1-ddda-47ab-b893-e2b951ea565b",
        "colab": {
          "base_uri": "https://localhost:8080/",
          "height": 34
        }
      },
      "source": [
        "face_cascade = cv.CascadeClassifier('haarcascade_frontalface_default.xml')\n",
        "img = cv.imread('//content/facemask/ANd9GcQGw_D2nHKb6KBUkF88mMdRWgdpLGEes_v_9dm5rSZfo5vRYIQ&s.jpg')\n",
        "img.shape"
      ],
      "execution_count": null,
      "outputs": [
        {
          "output_type": "execute_result",
          "data": {
            "text/plain": [
              "(183, 275, 3)"
            ]
          },
          "metadata": {
            "tags": []
          },
          "execution_count": 108
        }
      ]
    },
    {
      "cell_type": "code",
      "metadata": {
        "id": "_CINvoVQs1_k",
        "outputId": "e3ac373c-ec5c-4b9a-9f3e-6cdcb6d77c89",
        "colab": {
          "base_uri": "https://localhost:8080/",
          "height": 34
        }
      },
      "source": [
        "faces = face_cascade.detectMultiScale(img, 1.3, 5)\n",
        "faces"
      ],
      "execution_count": null,
      "outputs": [
        {
          "output_type": "execute_result",
          "data": {
            "text/plain": [
              "array([[120,  44,  62,  62]], dtype=int32)"
            ]
          },
          "metadata": {
            "tags": []
          },
          "execution_count": 109
        }
      ]
    },
    {
      "cell_type": "code",
      "metadata": {
        "id": "0STkS1iuwstk"
      },
      "source": [
        "x,y,w,h = faces[0]"
      ],
      "execution_count": null,
      "outputs": []
    },
    {
      "cell_type": "code",
      "metadata": {
        "id": "oM_aNAkqwuMm"
      },
      "source": [
        "box = (x, y, x+w, y+h)"
      ],
      "execution_count": null,
      "outputs": []
    },
    {
      "cell_type": "code",
      "metadata": {
        "id": "OVM-xMDXwzpV"
      },
      "source": [
        "crpim = im.crop(box).resize((64,64))"
      ],
      "execution_count": null,
      "outputs": []
    },
    {
      "cell_type": "code",
      "metadata": {
        "id": "8YO03RqAw9OX",
        "outputId": "2c11d237-e03f-4687-e13b-55b49ff29b54",
        "colab": {
          "base_uri": "https://localhost:8080/",
          "height": 81
        }
      },
      "source": [
        "crpim"
      ],
      "execution_count": null,
      "outputs": [
        {
          "output_type": "execute_result",
          "data": {
            "image/png": "[encoded data removed]",
            "text/plain": [
              "<PIL.Image.Image image mode=RGB size=64x64 at 0x7F8D74A02128>"
            ]
          },
          "metadata": {
            "tags": []
          },
          "execution_count": 114
        }
      ]
    },
    {
      "cell_type": "code",
      "metadata": {
        "id": "-rhgrsfGx4sG"
      },
      "source": [
        "#集體擷取臉\n",
        "\n",
        "face_cascade = cv.CascadeClassifier('haarcascade_frontalface_default.xml')\n",
        "\n",
        "def cropIdolFace(src, dest):\n",
        "    if not os.path.exists(dest):\n",
        "        os.mkdir(dest)\n",
        "    for filename in os.listdir(src):\n",
        "        img = cv.imread(src + filename)\n",
        "        faces = face_cascade.detectMultiScale(img, 1.3, 5)\n",
        "        if len(faces) == 1:\n",
        "            im      = Image.open(src + filename)\n",
        "            x,y,w,h = faces[0]\n",
        "            box     = (x, y, x+w, y+h)\n",
        "            crpim   = im.crop(box).resize((64,64))\n",
        "            crpim.save(dest + filename)"
      ],
      "execution_count": null,
      "outputs": []
    },
    {
      "cell_type": "code",
      "metadata": {
        "id": "zaiHnIALyY7J"
      },
      "source": [
        "cropIdolFace('facemask/', 'facemask_face/')"
      ],
      "execution_count": null,
      "outputs": []
    },
    {
      "cell_type": "code",
      "metadata": {
        "id": "l8j48sp-zZnp"
      },
      "source": [
        "cropIdolFace('facenomask/', 'facenomask_face/')"
      ],
      "execution_count": null,
      "outputs": []
    },
    {
      "cell_type": "markdown",
      "metadata": {
        "id": "Nu8rh06uz6vP"
      },
      "source": [
        "#使用 CNN 建立人臉識別模型"
      ]
    },
    {
      "cell_type": "code",
      "metadata": {
        "id": "YVRAM8730b_f"
      },
      "source": [
        "import tensorflow as tf\n",
        "from tensorflow import keras\n",
        "import numpy as np\n",
        "import matplotlib.pyplot as plt"
      ],
      "execution_count": null,
      "outputs": []
    },
    {
      "cell_type": "code",
      "metadata": {
        "id": "nLSqgLTFz6J0"
      },
      "source": [
        "# Initialising the CNN\n",
        "classifier = tf.keras.Sequential()\n",
        "\n",
        "# Convolution\n",
        "classifier.add(tf.keras.layers.Conv2D(filters=32, \n",
        "                                      kernel_size=(3, 3), \n",
        "                                      padding = 'same',\n",
        "                                      input_shape = (64, 64, 3), \n",
        "                                      activation = 'relu'))\n",
        "# Max Pooling\n",
        "classifier.add(tf.keras.layers.MaxPooling2D(pool_size = (2, 2)))\n",
        "\n",
        "# Convolution\n",
        "classifier.add(tf.keras.layers.Conv2D(filters=32, \n",
        "                                      kernel_size=(3, 3), \n",
        "                                      padding = 'same', \n",
        "                                      activation = 'relu'))\n",
        "# Max Pooling\n",
        "classifier.add(tf.keras.layers.MaxPooling2D(pool_size = (2, 2)))\n",
        "\n",
        "# Flattening\n",
        "classifier.add(tf.keras.layers.Flatten())\n",
        "\n",
        "# Fully Connected\n",
        "classifier.add(tf.keras.layers.Dense(units = 128, activation = 'relu')) \n",
        "classifier.add(tf.keras.layers.Dropout(rate=0.1)) \n",
        "classifier.add(tf.keras.layers.Dense(units = 128, activation = 'relu')) \n",
        "classifier.add(tf.keras.layers.Dropout(rate=0.1)) \n",
        "classifier.add(tf.keras.layers.Dense(units = 1, activation = 'sigmoid'))"
      ],
      "execution_count": null,
      "outputs": []
    },
    {
      "cell_type": "code",
      "metadata": {
        "id": "rD4e_D6G0dbl"
      },
      "source": [
        "classifier.summary()"
      ],
      "execution_count": null,
      "outputs": []
    },
    {
      "cell_type": "code",
      "metadata": {
        "id": "Aehxsrzy0iem"
      },
      "source": [
        "classifier.compile(optimizer = 'adam', \n",
        "                        loss ='binary_crossentropy', \n",
        "                     metrics = ['accuracy'])"
      ],
      "execution_count": null,
      "outputs": []
    },
    {
      "cell_type": "markdown",
      "metadata": {
        "id": "sS2mdjCF4wnS"
      },
      "source": [
        "#圖像增廣技術"
      ]
    },
    {
      "cell_type": "code",
      "metadata": {
        "id": "OjCfER6p4x0Q"
      },
      "source": [
        "train_datagen = tf.keras.preprocessing.image.ImageDataGenerator(rescale = 1./255,\n",
        "                                   shear_range = 0.2,     #x坐标保持不变，而对应的y坐标按比例发生平移\n",
        "                                   zoom_range = 0.2,      #可以让图片在长或宽的方向进行放大\n",
        "                                   horizontal_flip = True #水平翻转操作\n",
        "                                  )"
      ],
      "execution_count": null,
      "outputs": []
    },
    {
      "cell_type": "code",
      "metadata": {
        "id": "Lp_rUbbw4x61"
      },
      "source": [
        "test_datagen = tf.keras.preprocessing.image.ImageDataGenerator(rescale = 1./255)"
      ],
      "execution_count": null,
      "outputs": []
    },
    {
      "cell_type": "markdown",
      "metadata": {
        "id": "1-AY_Y8J2Dpu"
      },
      "source": [
        "#將資料分為訓練與測試資料集"
      ]
    },
    {
      "cell_type": "code",
      "metadata": {
        "id": "B7x364Eg2DMj"
      },
      "source": [
        "import os\n",
        "if not os.path.exists('train/'):\n",
        "    os.mkdir('train/')\n",
        "if not os.path.exists('test/'):\n",
        "    os.mkdir('test/')"
      ],
      "execution_count": null,
      "outputs": []
    },
    {
      "cell_type": "code",
      "metadata": {
        "id": "HiksXSbu2F1v"
      },
      "source": [
        "import os\n",
        "from sklearn.model_selection import train_test_split\n",
        "\n",
        "def splitDataset(dirs):\n",
        "    dataset = list(os.listdir(dirs))\n",
        "    train_data, test_data = train_test_split(dataset, test_size= 0.2, random_state = 42)\n",
        "    \n",
        "    if not os.path.exists('train/'+dirs):\n",
        "        os.mkdir('train/'+dirs)\n",
        "    if not os.path.exists('test/'+dirs):\n",
        "        os.mkdir('test/'+dirs)\n",
        "\n",
        "    for f in train_data:\n",
        "        os.rename(dirs + f, 'train/'+ dirs + f)\n",
        "    for f in test_data:\n",
        "        os.rename(dirs + f, 'test/' + dirs +f)"
      ],
      "execution_count": null,
      "outputs": []
    },
    {
      "cell_type": "code",
      "metadata": {
        "id": "Mugbe1Ml2L9g"
      },
      "source": [
        "splitDataset('facenomask_face/')"
      ],
      "execution_count": null,
      "outputs": []
    },
    {
      "cell_type": "code",
      "metadata": {
        "id": "yve41UTR2XUB"
      },
      "source": [
        "splitDataset('facemask_face/')"
      ],
      "execution_count": null,
      "outputs": []
    },
    {
      "cell_type": "code",
      "metadata": {
        "id": "2GF0eDUI4s4m",
        "outputId": "b44bf9b2-8fc0-474f-af22-050d5f4703ec",
        "colab": {
          "base_uri": "https://localhost:8080/",
          "height": 34
        }
      },
      "source": [
        "training_set = train_datagen.flow_from_directory(\n",
        "    'train/', target_size = (64, 64),\n",
        "     batch_size = 16,\n",
        "     class_mode = 'binary')"
      ],
      "execution_count": null,
      "outputs": [
        {
          "output_type": "stream",
          "text": [
            "Found 82 images belonging to 2 classes.\n"
          ],
          "name": "stdout"
        }
      ]
    },
    {
      "cell_type": "code",
      "metadata": {
        "id": "tmz4bm0r5EeO",
        "outputId": "5593758e-1cba-4194-8146-6b0170970521",
        "colab": {
          "base_uri": "https://localhost:8080/",
          "height": 34
        }
      },
      "source": [
        "test_set = test_datagen.flow_from_directory(\n",
        "    'test/', target_size = (64, 64),\n",
        "    batch_size = 30, \n",
        "    class_mode = 'binary')"
      ],
      "execution_count": null,
      "outputs": [
        {
          "output_type": "stream",
          "text": [
            "Found 22 images belonging to 2 classes.\n"
          ],
          "name": "stdout"
        }
      ]
    },
    {
      "cell_type": "code",
      "metadata": {
        "id": "Dc_b02pr3Y77",
        "outputId": "2a44ec62-2de5-4f7a-e68a-3df97159c6ce",
        "colab": {
          "base_uri": "https://localhost:8080/",
          "height": 390
        }
      },
      "source": [
        "history = classifier.fit_generator(training_set,\n",
        "                         epochs=10,\n",
        "                         validation_steps=16,\n",
        "                         verbose = 1,\n",
        "                         validation_data = test_set)"
      ],
      "execution_count": null,
      "outputs": [
        {
          "output_type": "stream",
          "text": [
            "Epoch 1/10\n",
            "6/6 [==============================] - ETA: 0s - loss: 0.1401 - accuracy: 0.9878WARNING:tensorflow:Your input ran out of data; interrupting training. Make sure that your dataset or generator can generate at least `steps_per_epoch * epochs` batches (in this case, 16 batches). You may need to use the repeat() function when building your dataset.\n",
            "6/6 [==============================] - 1s 88ms/step - loss: 0.1401 - accuracy: 0.9878 - val_loss: 0.1128 - val_accuracy: 0.9545\n",
            "Epoch 2/10\n",
            "6/6 [==============================] - 0s 77ms/step - loss: 0.1529 - accuracy: 0.9512\n",
            "Epoch 3/10\n",
            "6/6 [==============================] - 0s 76ms/step - loss: 0.0749 - accuracy: 0.9756\n",
            "Epoch 4/10\n",
            "6/6 [==============================] - 0s 78ms/step - loss: 0.0858 - accuracy: 0.9878\n",
            "Epoch 5/10\n",
            "6/6 [==============================] - 0s 73ms/step - loss: 0.0889 - accuracy: 0.9756\n",
            "Epoch 6/10\n",
            "6/6 [==============================] - 0s 72ms/step - loss: 0.0752 - accuracy: 0.9634\n",
            "Epoch 7/10\n",
            "6/6 [==============================] - 0s 74ms/step - loss: 0.0666 - accuracy: 0.9878\n",
            "Epoch 8/10\n",
            "6/6 [==============================] - 0s 74ms/step - loss: 0.0621 - accuracy: 0.9756\n",
            "Epoch 9/10\n",
            "6/6 [==============================] - 1s 87ms/step - loss: 0.0369 - accuracy: 0.9878\n",
            "Epoch 10/10\n",
            "6/6 [==============================] - 0s 73ms/step - loss: 0.0533 - accuracy: 0.9878\n"
          ],
          "name": "stdout"
        }
      ]
    },
    {
      "cell_type": "markdown",
      "metadata": {
        "id": "xha-fJSG5VVe"
      },
      "source": [
        "#實驗結果 無口罩"
      ]
    },
    {
      "cell_type": "code",
      "metadata": {
        "id": "Xt8z4QpY5fLk",
        "outputId": "ee485806-ccdb-45fa-a8b2-442b21190d81",
        "colab": {
          "base_uri": "https://localhost:8080/",
          "height": 202
        }
      },
      "source": [
        "! wget https://encrypted-tbn0.gstatic.com/images?q=tbn%3AANd9GcTWn7uyj0JEpJaQDJnQT_jwLPJNvD-3tv31lQ&usqp=CAU  #輸入要檢測的照片網址"
      ],
      "execution_count": null,
      "outputs": [
        {
          "output_type": "stream",
          "text": [
            "--2020-10-12 13:08:28--  https://encrypted-tbn0.gstatic.com/images?q=tbn%3AANd9GcTWn7uyj0JEpJaQDJnQT_jwLPJNvD-3tv31lQ\n",
            "Resolving encrypted-tbn0.gstatic.com (encrypted-tbn0.gstatic.com)... 74.125.129.100, 74.125.129.139, 74.125.129.113, ...\n",
            "Connecting to encrypted-tbn0.gstatic.com (encrypted-tbn0.gstatic.com)|74.125.129.100|:443... connected.\n",
            "HTTP request sent, awaiting response... 200 OK\n",
            "Length: 12547 (12K) [image/jpeg]\n",
            "Saving to: ‘images?q=tbn:ANd9GcTWn7uyj0JEpJaQDJnQT_jwLPJNvD-3tv31lQ’\n",
            "\n",
            "\r          images?q=   0%[                    ]       0  --.-KB/s               \rimages?q=tbn:ANd9Gc 100%[===================>]  12.25K  --.-KB/s    in 0s      \n",
            "\n",
            "2020-10-12 13:08:28 (41.5 MB/s) - ‘images?q=tbn:ANd9GcTWn7uyj0JEpJaQDJnQT_jwLPJNvD-3tv31lQ’ saved [12547/12547]\n",
            "\n"
          ],
          "name": "stdout"
        }
      ]
    },
    {
      "cell_type": "code",
      "metadata": {
        "id": "g1g4T5O150Z5"
      },
      "source": [
        "img = cv.imread('images?q=tbn:ANd9GcTWn7uyj0JEpJaQDJnQT_jwLPJNvD-3tv31lQ')"
      ],
      "execution_count": null,
      "outputs": []
    },
    {
      "cell_type": "code",
      "metadata": {
        "id": "IXfLVDbF6TUF"
      },
      "source": [
        "faces = face_cascade.detectMultiScale(img, 1.3, 5)  #人臉擷取"
      ],
      "execution_count": null,
      "outputs": []
    },
    {
      "cell_type": "code",
      "metadata": {
        "id": "mLC173VN6VmG",
        "outputId": "64ca0e2d-643c-4e4a-cdfc-d9cb463f73a3",
        "colab": {
          "base_uri": "https://localhost:8080/",
          "height": 34
        }
      },
      "source": [
        "faces  #人臉位置"
      ],
      "execution_count": null,
      "outputs": [
        {
          "output_type": "execute_result",
          "data": {
            "text/plain": [
              "array([[47, 39, 51, 51]], dtype=int32)"
            ]
          },
          "metadata": {
            "tags": []
          },
          "execution_count": 158
        }
      ]
    },
    {
      "cell_type": "code",
      "metadata": {
        "id": "rAAxENxl7ZQd",
        "outputId": "ca0d8213-d781-40eb-c3ef-9cef783a11bb",
        "colab": {
          "base_uri": "https://localhost:8080/",
          "height": 81
        }
      },
      "source": [
        "from PIL import Image\n",
        "im = Image.open('images?q=tbn:ANd9GcTWn7uyj0JEpJaQDJnQT_jwLPJNvD-3tv31lQ')\n",
        "x,y,w,h = faces[0]\n",
        "box     = (x, y, x+w, y+h)\n",
        "crpim   = im.crop(box).resize((64,64))  #擷取人臉位置\n",
        "crpim"
      ],
      "execution_count": null,
      "outputs": [
        {
          "output_type": "execute_result",
          "data": {
            "image/png": "[encoded data removed]",
            "text/plain": [
              "<PIL.Image.Image image mode=RGB size=64x64 at 0x7F8D24A07748>"
            ]
          },
          "metadata": {
            "tags": []
          },
          "execution_count": 159
        }
      ]
    },
    {
      "cell_type": "code",
      "metadata": {
        "id": "WjpT3_TR7nPa"
      },
      "source": [
        "crpim.save('predict_face.jpg')"
      ],
      "execution_count": null,
      "outputs": []
    },
    {
      "cell_type": "code",
      "metadata": {
        "id": "RbFnk0GC7o7y",
        "outputId": "a41722af-38b7-461f-b989-268646972bd9",
        "colab": {
          "base_uri": "https://localhost:8080/",
          "height": 34
        }
      },
      "source": [
        "import numpy as np\n",
        "from keras.preprocessing import image\n",
        "test_image = image.load_img('predict_face.jpg', target_size= (64,64))\n",
        "test_image = image.img_to_array(test_image)\n",
        "test_image.shape"
      ],
      "execution_count": null,
      "outputs": [
        {
          "output_type": "execute_result",
          "data": {
            "text/plain": [
              "(64, 64, 3)"
            ]
          },
          "metadata": {
            "tags": []
          },
          "execution_count": 161
        }
      ]
    },
    {
      "cell_type": "code",
      "metadata": {
        "id": "A-1MfYGU7sEg",
        "outputId": "2f040d96-d60f-484e-b6d5-3b2ffe04bc45",
        "colab": {
          "base_uri": "https://localhost:8080/",
          "height": 34
        }
      },
      "source": [
        "test_image = np.expand_dims(test_image, axis = 0)\n",
        "test_image.shape"
      ],
      "execution_count": null,
      "outputs": [
        {
          "output_type": "execute_result",
          "data": {
            "text/plain": [
              "(1, 64, 64, 3)"
            ]
          },
          "metadata": {
            "tags": []
          },
          "execution_count": 162
        }
      ]
    },
    {
      "cell_type": "code",
      "metadata": {
        "id": "SXWTt4JK7tXa",
        "outputId": "465e2daa-e2bf-4caf-faa5-5b3e37ea4c87",
        "colab": {
          "base_uri": "https://localhost:8080/",
          "height": 34
        }
      },
      "source": [
        "classifier.predict_classes(test_image)"
      ],
      "execution_count": null,
      "outputs": [
        {
          "output_type": "execute_result",
          "data": {
            "text/plain": [
              "array([[1]], dtype=int32)"
            ]
          },
          "metadata": {
            "tags": []
          },
          "execution_count": 166
        }
      ]
    },
    {
      "cell_type": "code",
      "metadata": {
        "id": "YCPh7m027zGt",
        "outputId": "02020c84-a6cb-4000-cf1c-2c4a07614b6e",
        "colab": {
          "base_uri": "https://localhost:8080/",
          "height": 34
        }
      },
      "source": [
        "training_set.class_indices"
      ],
      "execution_count": null,
      "outputs": [
        {
          "output_type": "execute_result",
          "data": {
            "text/plain": [
              "{'facemask_face': 0, 'facenomask_face': 1}"
            ]
          },
          "metadata": {
            "tags": []
          },
          "execution_count": 164
        }
      ]
    },
    {
      "cell_type": "markdown",
      "metadata": {
        "id": "wLROmSU_9Tva"
      },
      "source": [
        "#實驗結果 有口罩"
      ]
    },
    {
      "cell_type": "code",
      "metadata": {
        "id": "IH863jMC9WyZ",
        "outputId": "1feed1c6-5825-4354-bcd9-76520d7bc3ed",
        "colab": {
          "base_uri": "https://localhost:8080/",
          "height": 202
        }
      },
      "source": [
        "! wget https://image.cache.storm.mg/styles/smg-800x533-fp-wm/s3/media/image/2020/05/07/20200507-104941_U4040_M610201_428c.jpg?itok=LuMrSI2b"
      ],
      "execution_count": null,
      "outputs": [
        {
          "output_type": "stream",
          "text": [
            "--2020-10-12 13:22:59--  https://image.cache.storm.mg/styles/smg-800x533-fp-wm/s3/media/image/2020/05/07/20200507-104941_U4040_M610201_428c.jpg?itok=LuMrSI2b\n",
            "Resolving image.cache.storm.mg (image.cache.storm.mg)... 99.84.251.111, 99.84.251.37, 99.84.251.90, ...\n",
            "Connecting to image.cache.storm.mg (image.cache.storm.mg)|99.84.251.111|:443... connected.\n",
            "HTTP request sent, awaiting response... 200 OK\n",
            "Length: 54001 (53K) [image/jpeg]\n",
            "Saving to: ‘20200507-104941_U4040_M610201_428c.jpg?itok=LuMrSI2b’\n",
            "\n",
            "20200507-104941_U40 100%[===================>]  52.74K   160KB/s    in 0.3s    \n",
            "\n",
            "2020-10-12 13:23:00 (160 KB/s) - ‘20200507-104941_U4040_M610201_428c.jpg?itok=LuMrSI2b’ saved [54001/54001]\n",
            "\n"
          ],
          "name": "stdout"
        }
      ]
    },
    {
      "cell_type": "code",
      "metadata": {
        "id": "yiFMvj_f9iNj"
      },
      "source": [
        "img = cv.imread('20200507-104941_U4040_M610201_428c.jpg?itok=LuMrSI2b')\n",
        "img"
      ],
      "execution_count": null,
      "outputs": []
    },
    {
      "cell_type": "code",
      "metadata": {
        "id": "czr0XGmB9iRx"
      },
      "source": [
        "faces = face_cascade.detectMultiScale(img, 1.3, 5)"
      ],
      "execution_count": null,
      "outputs": []
    },
    {
      "cell_type": "code",
      "metadata": {
        "id": "Bi5ePXZh9iUC",
        "outputId": "1139d18e-64f8-4bb4-880a-54eb7b074dc9",
        "colab": {
          "base_uri": "https://localhost:8080/",
          "height": 50
        }
      },
      "source": [
        "faces"
      ],
      "execution_count": null,
      "outputs": [
        {
          "output_type": "execute_result",
          "data": {
            "text/plain": [
              "array([[483,  87,  86,  86],\n",
              "       [545,  89, 105, 105]], dtype=int32)"
            ]
          },
          "metadata": {
            "tags": []
          },
          "execution_count": 195
        }
      ]
    },
    {
      "cell_type": "code",
      "metadata": {
        "id": "_BN2b_my9iaQ",
        "outputId": "c2b7a2d4-a16a-4dfe-8c24-e0e122b229af",
        "colab": {
          "base_uri": "https://localhost:8080/",
          "height": 81
        }
      },
      "source": [
        "from PIL import Image\n",
        "im = Image.open('20200507-104941_U4040_M610201_428c.jpg?itok=LuMrSI2b')\n",
        "x,y,w,h = faces[0]\n",
        "box     = (x, y, x+w, y+h)\n",
        "crpim   = im.crop(box).resize((64,64))\n",
        "crpim"
      ],
      "execution_count": null,
      "outputs": [
        {
          "output_type": "execute_result",
          "data": {
            "image/png": "[encoded data removed]",
            "text/plain": [
              "<PIL.Image.Image image mode=RGB size=64x64 at 0x7F8D24880DA0>"
            ]
          },
          "metadata": {
            "tags": []
          },
          "execution_count": 196
        }
      ]
    },
    {
      "cell_type": "code",
      "metadata": {
        "id": "7WWEoiGG9iYw"
      },
      "source": [
        "crpim.save('predict_face1.jpg')"
      ],
      "execution_count": null,
      "outputs": []
    },
    {
      "cell_type": "code",
      "metadata": {
        "id": "GQ7MkE9T9iWn",
        "outputId": "24369d82-5112-4324-a95a-9ca4d8bc0b1e",
        "colab": {
          "base_uri": "https://localhost:8080/",
          "height": 34
        }
      },
      "source": [
        "import numpy as np\n",
        "from keras.preprocessing import image\n",
        "test_image = image.load_img('predict_face1.jpg', target_size= (64,64))\n",
        "test_image = image.img_to_array(test_image)\n",
        "test_image.shape"
      ],
      "execution_count": null,
      "outputs": [
        {
          "output_type": "execute_result",
          "data": {
            "text/plain": [
              "(64, 64, 3)"
            ]
          },
          "metadata": {
            "tags": []
          },
          "execution_count": 199
        }
      ]
    },
    {
      "cell_type": "code",
      "metadata": {
        "id": "vtNRCyfq9iP3",
        "outputId": "0661cd73-0af8-4744-b1ea-765b5c881a2c",
        "colab": {
          "base_uri": "https://localhost:8080/",
          "height": 34
        }
      },
      "source": [
        "test_image = np.expand_dims(test_image, axis = 0)\n",
        "test_image.shape"
      ],
      "execution_count": null,
      "outputs": [
        {
          "output_type": "execute_result",
          "data": {
            "text/plain": [
              "(1, 64, 64, 3)"
            ]
          },
          "metadata": {
            "tags": []
          },
          "execution_count": 200
        }
      ]
    },
    {
      "cell_type": "code",
      "metadata": {
        "id": "-i9cD8hC_IAq",
        "outputId": "fe1da066-ce79-40b8-ddd7-6ab39feedb24",
        "colab": {
          "base_uri": "https://localhost:8080/",
          "height": 34
        }
      },
      "source": [
        "classifier.predict_classes(test_image)"
      ],
      "execution_count": null,
      "outputs": [
        {
          "output_type": "execute_result",
          "data": {
            "text/plain": [
              "array([[0]], dtype=int32)"
            ]
          },
          "metadata": {
            "tags": []
          },
          "execution_count": 201
        }
      ]
    },
    {
      "cell_type": "code",
      "metadata": {
        "id": "o36qSFhq_Kak",
        "outputId": "18c4aa0d-ba05-4c4a-d4df-2d698c3471fb",
        "colab": {
          "base_uri": "https://localhost:8080/",
          "height": 34
        }
      },
      "source": [
        "training_set.class_indices"
      ],
      "execution_count": null,
      "outputs": [
        {
          "output_type": "execute_result",
          "data": {
            "text/plain": [
              "{'facemask_face': 0, 'facenomask_face': 1}"
            ]
          },
          "metadata": {
            "tags": []
          },
          "execution_count": 202
        }
      ]
    },
    {
      "cell_type": "markdown",
      "metadata": {
        "id": "3fR0mRth1DNe"
      },
      "source": [
        "#YOLO\n"
      ]
    },
    {
      "cell_type": "code",
      "metadata": {
        "id": "0lt-2spC2BEQ",
        "outputId": "81561d5b-15c9-485d-b0e8-b5918c9feb56",
        "colab": {
          "base_uri": "https://localhost:8080/",
          "height": 106
        }
      },
      "source": [
        "!git clone https://github.com/pjreddie/darknet.git"
      ],
      "execution_count": null,
      "outputs": [
        {
          "output_type": "stream",
          "text": [
            "Cloning into 'darknet'...\n",
            "remote: Enumerating objects: 5913, done.\u001b[K\n",
            "remote: Total 5913 (delta 0), reused 0 (delta 0), pack-reused 5913\u001b[K\n",
            "Receiving objects: 100% (5913/5913), 6.34 MiB | 19.25 MiB/s, done.\n",
            "Resolving deltas: 100% (3916/3916), done.\n"
          ],
          "name": "stdout"
        }
      ]
    },
    {
      "cell_type": "code",
      "metadata": {
        "id": "yle0M8qV2CHL",
        "outputId": "9ad0f1e5-6085-4166-93ff-067974139fcc",
        "colab": {
          "base_uri": "https://localhost:8080/",
          "height": 195
        }
      },
      "source": [
        "! cd darknet; head Makefile"
      ],
      "execution_count": null,
      "outputs": [
        {
          "output_type": "stream",
          "text": [
            "GPU=0\n",
            "CUDNN=0\n",
            "OPENCV=0\n",
            "OPENMP=0\n",
            "DEBUG=0\n",
            "\n",
            "ARCH= -gencode arch=compute_30,code=sm_30 \\\n",
            "      -gencode arch=compute_35,code=sm_35 \\\n",
            "      -gencode arch=compute_50,code=[sm_50,compute_50] \\\n",
            "      -gencode arch=compute_52,code=[sm_52,compute_52]\n"
          ],
          "name": "stdout"
        }
      ]
    },
    {
      "cell_type": "markdown",
      "metadata": {
        "id": "9g5AYbH83wpI"
      },
      "source": [
        "修改 makefile\n",
        "\n",
        "GPU=1\n",
        "CUDNN=1\n",
        "OPENCV=1"
      ]
    },
    {
      "cell_type": "code",
      "metadata": {
        "id": "YMYCtPZB2CJp"
      },
      "source": [
        "! sed -i \"s/GPU=0/GPU=1/g\" /content/darknet/Makefile\n",
        "! sed -i \"s/CUDNN=0/CUDNN=1/g\" /content/darknet/Makefile\n",
        "! sed -i \"s/OPENCV=0/OPENCV=1/g\" /content/darknet/Makefile"
      ],
      "execution_count": null,
      "outputs": []
    },
    {
      "cell_type": "code",
      "metadata": {
        "id": "P7DMfe-g2CL8",
        "outputId": "cabc8261-48fd-48c1-881b-78a867a9c28d",
        "colab": {
          "base_uri": "https://localhost:8080/",
          "height": 195
        }
      },
      "source": [
        "! head /content/darknet/Makefile "
      ],
      "execution_count": null,
      "outputs": [
        {
          "output_type": "stream",
          "text": [
            "GPU=1\n",
            "CUDNN=1\n",
            "OPENCV=1\n",
            "OPENMP=0\n",
            "DEBUG=0\n",
            "\n",
            "ARCH= -gencode arch=compute_30,code=sm_30 \\\n",
            "      -gencode arch=compute_35,code=sm_35 \\\n",
            "      -gencode arch=compute_50,code=[sm_50,compute_50] \\\n",
            "      -gencode arch=compute_52,code=[sm_52,compute_52]\n"
          ],
          "name": "stdout"
        }
      ]
    },
    {
      "cell_type": "code",
      "metadata": {
        "id": "dKyP3Pw84fkK"
      },
      "source": [
        "! cd darknet; make"
      ],
      "execution_count": null,
      "outputs": []
    },
    {
      "cell_type": "markdown",
      "metadata": {
        "id": "9bzw4FPX49kH"
      },
      "source": [
        "https://www.kaggle.com/gooogr/yolo-medical-mask-dataset/data\n",
        "\n",
        "#台灣口罩數據集"
      ]
    },
    {
      "cell_type": "code",
      "metadata": {
        "id": "UPUKYWLu4kf_",
        "outputId": "8aa1729b-9a7c-4e28-f2fb-52bf17947c5a",
        "colab": {
          "base_uri": "https://localhost:8080/",
          "height": 35
        }
      },
      "source": [
        "from google.colab import drive\n",
        "drive.mount('/content/drive')   #連結google drive"
      ],
      "execution_count": null,
      "outputs": [
        {
          "output_type": "stream",
          "text": [
            "Drive already mounted at /content/drive; to attempt to forcibly remount, call drive.mount(\"/content/drive\", force_remount=True).\n"
          ],
          "name": "stdout"
        }
      ]
    },
    {
      "cell_type": "code",
      "metadata": {
        "id": "N0icaI7s4kjX"
      },
      "source": [
        "! cp \"/content/drive/My Drive/archive.zip\" /content/   # 載入GOOGLE DRIVE上的檔案檔案"
      ],
      "execution_count": null,
      "outputs": []
    },
    {
      "cell_type": "code",
      "metadata": {
        "id": "-6GMo3SD4krJ"
      },
      "source": [
        "! unzip /content/archive.zip > data_unzip.log   #解壓縮 # >data_unzip.log 將用不到的log檔移走"
      ],
      "execution_count": null,
      "outputs": []
    },
    {
      "cell_type": "code",
      "metadata": {
        "id": "CWyspSqL4ktb"
      },
      "source": [
        ""
      ],
      "execution_count": null,
      "outputs": []
    },
    {
      "cell_type": "code",
      "metadata": {
        "id": "H77uaQ5R4kvn"
      },
      "source": [
        "! cp \"/content/drive/My Drive/maskdata.zip\" /content/   # 載入檔案"
      ],
      "execution_count": null,
      "outputs": []
    },
    {
      "cell_type": "code",
      "metadata": {
        "id": "B7koLxn34kx_"
      },
      "source": [
        "! unzip /content/maskdata.zip > data_unzip.log "
      ],
      "execution_count": null,
      "outputs": []
    },
    {
      "cell_type": "code",
      "metadata": {
        "id": "_W-Wt96G4k1g"
      },
      "source": [
        "from PIL import Image\n",
        "img = Image.open('/content//Dataset/Medical_Masks_Dataset/images/1.jpg')\n",
        "img"
      ],
      "execution_count": null,
      "outputs": []
    },
    {
      "cell_type": "code",
      "metadata": {
        "id": "uv7uqKOYN6KP",
        "outputId": "e2425b3d-7222-4410-dbcf-8843ee7e3ddd",
        "colab": {
          "base_uri": "https://localhost:8080/",
          "height": 212
        }
      },
      "source": [
        "! cat /content//Dataset/Medical_Masks_Dataset/yolo_labels/1.txt"
      ],
      "execution_count": null,
      "outputs": [
        {
          "output_type": "stream",
          "text": [
            "1 0.0975 0.2388888888888889 0.05125 0.06222222222222222\n",
            "1 0.2625 0.2061111111111111 0.045 0.06555555555555556\n",
            "1 0.1559375 0.29 0.020625 0.04\n",
            "1 0.3378125 0.24888888888888888 0.025625 0.04888888888888889\n",
            "1 0.4253125 0.2388888888888889 0.036875 0.08\n",
            "1 0.53125 0.25833333333333336 0.04 0.08555555555555555\n",
            "1 0.713125 0.2627777777777778 0.02875 0.08333333333333333\n",
            "1 0.8634375 0.2461111111111111 0.038125 0.07666666666666666\n",
            "1 0.583125 0.3383333333333333 0.01 0.021111111111111112\n",
            "1 0.9890625 0.3605555555555556 0.011875 0.021111111111111112\n",
            "1 0.9765625 0.3688888888888889 0.014375 0.02666666666666667\n"
          ],
          "name": "stdout"
        }
      ]
    },
    {
      "cell_type": "code",
      "metadata": {
        "id": "K5WnSfaw77rR"
      },
      "source": [
        "! rm -rf /content/cfg_mask\n",
        "! mkdir /content/cfg_mask"
      ],
      "execution_count": null,
      "outputs": []
    },
    {
      "cell_type": "code",
      "metadata": {
        "id": "jE6aZH_J8UKx",
        "outputId": "5c6a9f5d-329e-4a8a-da2c-c2b3f63e8a29",
        "colab": {
          "base_uri": "https://localhost:8080/",
          "height": 35
        }
      },
      "source": [
        "import os\n",
        "datasets = ['/content//Dataset/Medical_Masks_Dataset/images/'+ f for f in os.listdir('/content//Dataset/Medical_Masks_Dataset/images/') if not f.endswith('.txt')]\n",
        "len(datasets)"
      ],
      "execution_count": null,
      "outputs": [
        {
          "output_type": "execute_result",
          "data": {
            "text/plain": [
              "670"
            ]
          },
          "metadata": {
            "tags": []
          },
          "execution_count": 27
        }
      ]
    },
    {
      "cell_type": "code",
      "metadata": {
        "id": "OSHejxea8UOX",
        "outputId": "7fb9415c-cbe3-4004-c2bd-a1326cbbd7d3",
        "colab": {
          "base_uri": "https://localhost:8080/",
          "height": 35
        }
      },
      "source": [
        "#import os\n",
        "#datasets = ['/content//Dataset/Medical_Masks_Dataset/yolo_labels/'+ f for f in os.listdir('/content//Dataset/Medical_Masks_Dataset/yolo_labels/') if not f.endswith('.txt')]\n",
        "#len(datasets)"
      ],
      "execution_count": null,
      "outputs": [
        {
          "output_type": "execute_result",
          "data": {
            "text/plain": [
              "0"
            ]
          },
          "metadata": {
            "tags": []
          },
          "execution_count": 25
        }
      ]
    },
    {
      "cell_type": "code",
      "metadata": {
        "id": "g9yuuIJL8UQu"
      },
      "source": [
        "with open('/content/cfg_mask/train.txt', 'w') as f:\n",
        "    f.write('\\n'.join(datasets))"
      ],
      "execution_count": null,
      "outputs": []
    },
    {
      "cell_type": "code",
      "metadata": {
        "id": "95-NjtFODo7F",
        "outputId": "9752ef9c-f984-4de1-97ed-c493c8c206bb",
        "colab": {
          "base_uri": "https://localhost:8080/",
          "height": 195
        }
      },
      "source": [
        "! head /content/cfg_mask/train.txt"
      ],
      "execution_count": null,
      "outputs": [
        {
          "output_type": "stream",
          "text": [
            "/content//Dataset/Medical_Masks_Dataset/images/494.png\n",
            "/content//Dataset/Medical_Masks_Dataset/images/129.jpg\n",
            "/content//Dataset/Medical_Masks_Dataset/images/149.jpg\n",
            "/content//Dataset/Medical_Masks_Dataset/images/496.jpg\n",
            "/content//Dataset/Medical_Masks_Dataset/images/222.jpg\n",
            "/content//Dataset/Medical_Masks_Dataset/images/42.jpg\n",
            "/content//Dataset/Medical_Masks_Dataset/images/264.jpg\n",
            "/content//Dataset/Medical_Masks_Dataset/images/354.jpg\n",
            "/content//Dataset/Medical_Masks_Dataset/images/223.jpg\n",
            "/content//Dataset/Medical_Masks_Dataset/images/138.jpg\n"
          ],
          "name": "stdout"
        }
      ]
    },
    {
      "cell_type": "code",
      "metadata": {
        "id": "gh3s1-mMER06",
        "outputId": "9484f7a1-8daa-466f-e68e-42e26f56b8a6",
        "colab": {
          "base_uri": "https://localhost:8080/",
          "height": 35
        }
      },
      "source": [
        "import os\n",
        "datasets = ['/content//Dataset/Medical_Masks_Dataset/test_images/'+ f for f in os.listdir('/content//Dataset/Medical_Masks_Dataset/test_images/') if f.endswith('.jpg') or f.endswith('.jpeg') ]\n",
        "len(datasets)"
      ],
      "execution_count": null,
      "outputs": [
        {
          "output_type": "execute_result",
          "data": {
            "text/plain": [
              "8"
            ]
          },
          "metadata": {
            "tags": []
          },
          "execution_count": 36
        }
      ]
    },
    {
      "cell_type": "code",
      "metadata": {
        "id": "vCZK8yWwDo_c"
      },
      "source": [
        "with open('/content/cfg_mask/test.txt', 'w') as f:\n",
        "    f.write('\\n'.join(datasets))"
      ],
      "execution_count": null,
      "outputs": []
    },
    {
      "cell_type": "code",
      "metadata": {
        "id": "Jg-7edVNEdjs",
        "outputId": "1e89bcb7-6c10-4f02-a8e1-43a0178262c4",
        "colab": {
          "base_uri": "https://localhost:8080/",
          "height": 159
        }
      },
      "source": [
        "! head /content/cfg_mask/test.txt"
      ],
      "execution_count": null,
      "outputs": [
        {
          "output_type": "stream",
          "text": [
            "/content//Dataset/Medical_Masks_Dataset/test_images/676.jpeg\n",
            "/content//Dataset/Medical_Masks_Dataset/test_images/674.jpg\n",
            "/content//Dataset/Medical_Masks_Dataset/test_images/678.jpg\n",
            "/content//Dataset/Medical_Masks_Dataset/test_images/671.jpeg\n",
            "/content//Dataset/Medical_Masks_Dataset/test_images/675.jpg\n",
            "/content//Dataset/Medical_Masks_Dataset/test_images/677.jpg\n",
            "/content//Dataset/Medical_Masks_Dataset/test_images/672.jpeg\n",
            "/content//Dataset/Medical_Masks_Dataset/test_images/673.jpg"
          ],
          "name": "stdout"
        }
      ]
    },
    {
      "cell_type": "code",
      "metadata": {
        "id": "9SBxC26pDo9Q"
      },
      "source": [
        "! cp \"/content/Dataset/Medical_Masks_Dataset/classes.txt\" cfg_mask/"
      ],
      "execution_count": null,
      "outputs": []
    },
    {
      "cell_type": "code",
      "metadata": {
        "id": "Dk7442_NJAEQ",
        "outputId": "7cb54d10-db00-4dc6-d17f-c7290d550aff",
        "colab": {
          "base_uri": "https://localhost:8080/",
          "height": 70
        }
      },
      "source": [
        "! head /content/cfg_mask/classes.txt"
      ],
      "execution_count": null,
      "outputs": [
        {
          "output_type": "stream",
          "text": [
            "bad\n",
            "good\n",
            "non"
          ],
          "name": "stdout"
        }
      ]
    },
    {
      "cell_type": "code",
      "metadata": {
        "id": "b2TO7cfUJAOf"
      },
      "source": [
        "! cp \"/content/drive/My Drive/obj.data\" cfg_mask/"
      ],
      "execution_count": null,
      "outputs": []
    },
    {
      "cell_type": "code",
      "metadata": {
        "id": "bvbl5_oYLijO",
        "outputId": "aaae666d-da98-4ee0-fa25-fe1c11f90eb0",
        "colab": {
          "base_uri": "https://localhost:8080/",
          "height": 106
        }
      },
      "source": [
        "! head /content/cfg_mask/obj.data"
      ],
      "execution_count": null,
      "outputs": [
        {
          "output_type": "stream",
          "text": [
            "classes= 3\r\n",
            "train  = /content/cfg_mask/train.txt\r\n",
            "valid  = /content/cfg_mask/test.txt\r\n",
            "names  = /content/cfg_mask/obj.names\r\n",
            "backup = /content/cfg_mask/weights/"
          ],
          "name": "stdout"
        }
      ]
    },
    {
      "cell_type": "code",
      "metadata": {
        "id": "CyEXVXIILilm",
        "outputId": "45f60b82-c5f9-45b7-ee26-bc45a54c0a2c",
        "colab": {
          "base_uri": "https://localhost:8080/",
          "height": 35
        }
      },
      "source": [
        "!ln -fs \"//content/drive/My Drive\" app"
      ],
      "execution_count": null,
      "outputs": [
        {
          "output_type": "stream",
          "text": [
            "ln: failed to create symbolic link 'app/My Drive': Operation not supported\n"
          ],
          "name": "stdout"
        }
      ]
    },
    {
      "cell_type": "code",
      "metadata": {
        "id": "0-CVKmAGLipL"
      },
      "source": [
        ""
      ],
      "execution_count": null,
      "outputs": []
    },
    {
      "cell_type": "code",
      "metadata": {
        "id": "Dne562hLQ0QA"
      },
      "source": [
        "! cp /content/darknet/cfg/yolov3-tiny.cfg /content/Dataset/  "
      ],
      "execution_count": null,
      "outputs": []
    },
    {
      "cell_type": "code",
      "metadata": {
        "id": "XsR5HhnpReh_",
        "outputId": "eb062535-11e7-4d78-b479-68c87f2cd302",
        "colab": {
          "base_uri": "https://localhost:8080/",
          "height": 88
        }
      },
      "source": [
        "! sed -n -e 127p -e 135p -e 171p -e 177p /content/Dataset/yolov3-tiny.cfg"
      ],
      "execution_count": null,
      "outputs": [
        {
          "output_type": "stream",
          "text": [
            "filters=255\n",
            "classes=80\n",
            "filters=255\n",
            "classes=80\n"
          ],
          "name": "stdout"
        }
      ]
    },
    {
      "cell_type": "code",
      "metadata": {
        "id": "blyW-koI59gK"
      },
      "source": [
        "!ln -fs \"/content/drive/My Drive\" app"
      ],
      "execution_count": null,
      "outputs": []
    },
    {
      "cell_type": "code",
      "metadata": {
        "id": "yUhyglqt6An8",
        "outputId": "881e7bb6-0d93-4c7d-84f7-0b2c96214127",
        "colab": {
          "base_uri": "https://localhost:8080/",
          "height": 35
        }
      },
      "source": [
        "! sed -i \"s/backup = \\/content\\/cfg_mask\\/weights\\//backup = \\/content\\/app\\/aidataset\\/weights\\//g\" /content/cfg_mask/obj.data"
      ],
      "execution_count": null,
      "outputs": [
        {
          "output_type": "stream",
          "text": [
            "sed: can't read /content/cfg_mask/obj.data: No such file or directory\n"
          ],
          "name": "stdout"
        }
      ]
    },
    {
      "cell_type": "code",
      "metadata": {
        "id": "pHvnsB0mT3e0",
        "outputId": "a6a2b13b-547e-4da9-eba4-fc2a9d55f3c3",
        "colab": {
          "base_uri": "https://localhost:8080/",
          "height": 159
        }
      },
      "source": [
        "!wget https://pjreddie.com/media/files/darknet53.conv.74"
      ],
      "execution_count": null,
      "outputs": [
        {
          "output_type": "stream",
          "text": [
            "--2020-10-16 14:54:33--  https://pjreddie.com/media/files/darknet53.conv.74\n",
            "Resolving pjreddie.com (pjreddie.com)... 128.208.4.108\n",
            "Connecting to pjreddie.com (pjreddie.com)|128.208.4.108|:443... connected.\n",
            "HTTP request sent, awaiting response... 200 OK\n",
            "Length: 162482580 (155M) [application/octet-stream]\n",
            "Saving to: ‘darknet53.conv.74.1’\n",
            "\n",
            "darknet53.conv.74.1   0%[                    ] 167.70K   223KB/s               ^C\n"
          ],
          "name": "stdout"
        }
      ]
    }
  ]
}